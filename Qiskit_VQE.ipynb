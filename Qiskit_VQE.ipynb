{
  "nbformat": 4,
  "nbformat_minor": 0,
  "metadata": {
    "colab": {
      "provenance": []
    },
    "kernelspec": {
      "name": "python3",
      "display_name": "Python 3"
    },
    "language_info": {
      "name": "python"
    }
  },
  "cells": [
    {
      "cell_type": "code",
      "source": [
        "!pip install qiskit qiskit_aer"
      ],
      "metadata": {
        "collapsed": true,
        "id": "70oaRvNmh4fT"
      },
      "execution_count": null,
      "outputs": []
    },
    {
      "cell_type": "code",
      "execution_count": 2,
      "metadata": {
        "id": "cFAFq7KNd8sW"
      },
      "outputs": [],
      "source": [
        "from qiskit.providers.basic_provider import BasicProvider\n",
        "from qiskit import QuantumCircuit, QuantumRegister, ClassicalRegister, transpile\n",
        "from qiskit_aer import Aer\n",
        "import numpy as np\n",
        "from scipy.optimize import minimize, minimize_scalar"
      ]
    },
    {
      "cell_type": "code",
      "source": [
        "H = np.mat(\"0.5 0 0 0; 0 -0.5 1 0; 0 1 -0.5 0; 0 0 0 0.5\") #The Hamiltonian matrix\n",
        "print(\"The eigenvalues of H :\", np.linalg.eigvals(H))\n",
        "print('The exact ground state energy is: ', np.linalg.eigvals(H)[1])"
      ],
      "metadata": {
        "id": "jUysGv5zeCIf",
        "colab": {
          "base_uri": "https://localhost:8080/"
        },
        "outputId": "d16401ee-f4ea-4a1b-bcdc-715fff3a29b9"
      },
      "execution_count": 3,
      "outputs": [
        {
          "output_type": "stream",
          "name": "stdout",
          "text": [
            "The eigenvalues of H : [ 0.5 -1.5  0.5  0.5]\n",
            "The exact ground state energy is:  -1.5\n"
          ]
        }
      ]
    },
    {
      "cell_type": "code",
      "source": [
        "A = np.array([[1,0,1,0],[0,1,0,-1],[1,0,-1,0],[0,1,0,1]])\n",
        "C = np.array([1/2,0,-1/2,1])\n",
        "S = np.linalg.solve(A,C) # x = A^-1 * C\n",
        "H ={'II':S[0], 'XX':S[1], 'ZZ':S[2],'YY':S[3]}\n",
        "print(H)"
      ],
      "metadata": {
        "id": "J-25V40tgMAO",
        "colab": {
          "base_uri": "https://localhost:8080/"
        },
        "outputId": "6bd56543-1cbf-4a3f-c08f-33c4c8ba1a78"
      },
      "execution_count": 4,
      "outputs": [
        {
          "output_type": "stream",
          "name": "stdout",
          "text": [
            "{'II': 0.0, 'XX': 0.5, 'ZZ': 0.5, 'YY': 0.5}\n"
          ]
        }
      ]
    },
    {
      "cell_type": "code",
      "source": [
        "# Initialize Ansatz\n",
        "def ansatz_init(circuit, parameter):\n",
        "    q = circuit.qregs[0]\n",
        "    circuit.h(q[0])\n",
        "    circuit.rz(parameter, q[0])\n",
        "    circuit.cx(q[0], q[1])\n",
        "    circuit.x(q[1])\n",
        "    return circuit\n",
        "\n",
        "# Transfer to Z basis for mesaurement\n",
        "def z_measure_circ(parameter, measure):\n",
        "    q = QuantumRegister(2)\n",
        "    c = ClassicalRegister(2)\n",
        "    circuit = QuantumCircuit(q, c)\n",
        "\n",
        "    # implement the ansatz in the circuit\n",
        "    circuit = ansatz_init(circuit, parameter)\n",
        "\n",
        "    # measurement\n",
        "    if measure == 'XX':\n",
        "        circuit.barrier(q[0],q[1])\n",
        "        circuit.u(np.pi/2, 0, np.pi, q[0])\n",
        "        circuit.u(np.pi/2, 0, np.pi, q[1])\n",
        "        circuit.measure(q[0], c[0])\n",
        "        circuit.measure(q[1], c[1])\n",
        "    elif measure == 'ZZ':\n",
        "        circuit.measure(q[0], c[0])\n",
        "        circuit.measure(q[1], c[1])\n",
        "    elif measure == 'YY':\n",
        "        circuit.barrier(q[0],q[1])\n",
        "        circuit.u(np.pi/2, 0, np.pi/2, q[0])\n",
        "        circuit.u(np.pi/2,0, np.pi/2, q[1])\n",
        "        circuit.measure(q[0], c[0])\n",
        "        circuit.measure(q[1], c[1])\n",
        "    else: raise ValueError('Input should be \"XX\" or \"YY\" or \"ZZ\"')\n",
        "    return circuit\n",
        "\n",
        "# Get value from a dictionary given key\n",
        "def get_from(d: dict, key: str):\n",
        "    value = 0\n",
        "    if key in d: value = d[key]\n",
        "    return value\n",
        "\n",
        "# Calculate the expectation value for each Pauli gate\n",
        "def expec_value(parameter, measure):\n",
        "    # measure in the right basis, then use the counts to compute the expectation value.\n",
        "    if measure == 'II': return 1\n",
        "    elif measure == 'XX' or 'YY' or 'ZZ': circuit = z_measure_circ(parameter, measure)\n",
        "    else: raise ValueError('Input should be \"II\" or \"XX\" or \"ZZ\" or \"YY\"')\n",
        "\n",
        "    shots = 1000\n",
        "    simulator = Aer.get_backend('qasm_simulator')\n",
        "    transpiled_circuit = transpile(circuit, simulator)\n",
        "    job = simulator.run(transpiled_circuit, shots=shots)\n",
        "    result = job.result()\n",
        "    counts = result.get_counts(circuit)\n",
        "\n",
        "    expectation_value = ((get_from(counts, '00')+get_from(counts, '11')) -\n",
        "                         (get_from(counts,'10')+get_from(counts, '01'))) / shots\n",
        "\n",
        "    return expectation_value\n",
        "\n",
        "# Sums all expectation values inside a Hamiltonian and multiply by coefficients\n",
        "def sum_expec(parameter):\n",
        "    if isinstance(parameter, np.ndarray): parameter = parameter[0]\n",
        "    expec_value_II = get_from(H, 'II') * expec_value(parameter, 'II') #a*<II>\n",
        "    expec_value_XX = get_from(H, 'XX') * expec_value(parameter, 'XX') #b*<XX>\n",
        "    expec_value_ZZ = get_from(H, 'ZZ') * expec_value(parameter, 'ZZ') #c*<ZZ>\n",
        "    expec_value_YY = get_from(H, 'YY') * expec_value(parameter, 'YY') #d*<YY>\n",
        "\n",
        "    sum_result = expec_value_II + expec_value_XX + expec_value_ZZ + expec_value_YY\n",
        "\n",
        "    return sum_result"
      ],
      "metadata": {
        "id": "-KcBHSS2g8mI"
      },
      "execution_count": 5,
      "outputs": []
    },
    {
      "cell_type": "code",
      "source": [
        "parameter = 0\n",
        "tolerance = 1e-3\n",
        "sum_expec_result = minimize(sum_expec, parameter, method=\"Powell\", tol=tolerance)\n",
        "\n",
        "print('The exact ground state energy is: {}'.format(-1.5))\n",
        "print('The estimated ground state energy using VQE algorithm is: {}'.format(sum_expec_result.fun))\n",
        "print(\"\\nThe optimal parameter theta is : {} \".format(sum_expec_result.x))"
      ],
      "metadata": {
        "id": "NYhaX7eSiLwm",
        "colab": {
          "base_uri": "https://localhost:8080/"
        },
        "outputId": "272218de-7f89-4302-f9c5-8c603db2c319"
      },
      "execution_count": 6,
      "outputs": [
        {
          "output_type": "stream",
          "name": "stdout",
          "text": [
            "The exact ground state energy is: -1.5\n",
            "The estimated ground state energy using VQE algorithm is: -1.5\n",
            "\n",
            "The optimal parameter theta is : [3.14820818] \n"
          ]
        }
      ]
    },
    {
      "cell_type": "code",
      "source": [
        "qc = QuantumCircuit(2)\n",
        "qc.h(0)\n",
        "qc.rz(np.pi,0)\n",
        "qc.cx(0,1)\n",
        "qc.x(1)\n",
        "qc.draw()"
      ],
      "metadata": {
        "id": "YiuHOd56i74K",
        "colab": {
          "base_uri": "https://localhost:8080/",
          "height": 94
        },
        "outputId": "f7bfcd95-f7f4-413d-8808-8aeb4be223b7"
      },
      "execution_count": 7,
      "outputs": [
        {
          "output_type": "execute_result",
          "data": {
            "text/plain": [
              "     ┌───┐┌───────┐          \n",
              "q_0: ┤ H ├┤ Rz(π) ├──■───────\n",
              "     └───┘└───────┘┌─┴─┐┌───┐\n",
              "q_1: ──────────────┤ X ├┤ X ├\n",
              "                   └───┘└───┘"
            ],
            "text/html": [
              "<pre style=\"word-wrap: normal;white-space: pre;background: #fff0;line-height: 1.1;font-family: &quot;Courier New&quot;,Courier,monospace\">     ┌───┐┌───────┐          \n",
              "q_0: ┤ H ├┤ Rz(π) ├──■───────\n",
              "     └───┘└───────┘┌─┴─┐┌───┐\n",
              "q_1: ──────────────┤ X ├┤ X ├\n",
              "                   └───┘└───┘</pre>"
            ]
          },
          "metadata": {},
          "execution_count": 7
        }
      ]
    }
  ]
}