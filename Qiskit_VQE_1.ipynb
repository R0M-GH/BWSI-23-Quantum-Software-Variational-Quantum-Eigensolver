{
  "nbformat": 4,
  "nbformat_minor": 0,
  "metadata": {
    "colab": {
      "provenance": [],
      "authorship_tag": "ABX9TyMCJtPSK9ytIDgf54E0uNgI",
      "include_colab_link": true
    },
    "kernelspec": {
      "name": "python3",
      "display_name": "Python 3"
    },
    "language_info": {
      "name": "python"
    }
  },
  "cells": [
    {
      "cell_type": "markdown",
      "metadata": {
        "id": "view-in-github",
        "colab_type": "text"
      },
      "source": [
        "<a href=\"https://colab.research.google.com/github/R0M-GH/BWSI-23-Quantum-Software-Variational-Quantum-Eigensolver/blob/qiskit-vqe/Qiskit_VQE_1.ipynb\" target=\"_parent\"><img src=\"https://colab.research.google.com/assets/colab-badge.svg\" alt=\"Open In Colab\"/></a>"
      ]
    },
    {
      "cell_type": "code",
      "execution_count": null,
      "metadata": {
        "id": "cFAFq7KNd8sW"
      },
      "outputs": [],
      "source": [
        "import numpy as np\n",
        "from scipy.optimize import minimize, minimize_scalar\n",
        "from qiskit import *\n",
        "# Implementation from https://github.com/walid-mk/VQE/blob/master/Task4/VQE.Noiseless.Simulator.Code1.ipynb"
      ]
    },
    {
      "cell_type": "code",
      "source": [
        "H = np.mat(\"0.5 0 0 0; 0 -0.5 1 0; 0 1 -0.5 0; 0 0 0 0.5\") #The Hamiltonian matrix\n",
        "print(\"The eigenvalues of H :\", np.linalg.eigvals(H))\n",
        "print('The exact ground state energy is: ', np.linalg.eigvals(H)[1])"
      ],
      "metadata": {
        "colab": {
          "base_uri": "https://localhost:8080/"
        },
        "id": "jUysGv5zeCIf",
        "outputId": "f10b1a0c-69b6-4f73-bf2b-58c9fae4e56e"
      },
      "execution_count": null,
      "outputs": [
        {
          "output_type": "stream",
          "name": "stdout",
          "text": [
            "The eigenvalues of H : [ 0.5 -1.5  0.5  0.5]\n",
            "The exact ground state energy is:  -1.5\n"
          ]
        }
      ]
    },
    {
      "cell_type": "code",
      "source": [
        "A = np.array([[1,0,1,0],[0,1,0,-1],[1,0,-1,0],[0,1,0,1]])\n",
        "C = np.array([1/2,0,-1/2,1])\n",
        "S = np.linalg.solve(A,C) # x = A^-1 * C\n",
        "H ={'II':S[0], 'XX':S[1], 'ZZ':S[2],'YY':S[3]}\n",
        "print(H)"
      ],
      "metadata": {
        "colab": {
          "base_uri": "https://localhost:8080/"
        },
        "id": "J-25V40tgMAO",
        "outputId": "69b415aa-83f6-438a-8404-ed2c379283cd"
      },
      "execution_count": null,
      "outputs": [
        {
          "output_type": "stream",
          "name": "stdout",
          "text": [
            "{'II': 0.0, 'XX': 0.5, 'ZZ': 0.5, 'YY': 0.5}\n"
          ]
        }
      ]
    },
    {
      "cell_type": "code",
      "source": [
        "# Initialize Ansatz\n",
        "def ansatz_init(circuit, parameter):\n",
        "    q = circuit.qregs[0]\n",
        "    circuit.h(q[0])\n",
        "    circuit.rz(parameter, q[0])\n",
        "    circuit.cx(q[0], q[1])\n",
        "    circuit.x(q[1])\n",
        "    return circuit\n",
        "\n",
        "# Transfer to Z basis for mesaurement\n",
        "def z_measure_circ(parameter, measure):\n",
        "    q = QuantumRegister(2)\n",
        "    c = ClassicalRegister(2)\n",
        "    circuit = QuantumCircuit(q, c)\n",
        "\n",
        "    # implement the ansatz in the circuit\n",
        "    circuit = ansatz_init(circuit, parameter)\n",
        "\n",
        "    # measurement\n",
        "    if measure == 'XX':\n",
        "        circuit.barrier(q[0],q[1])\n",
        "        circuit.u(np.pi/2, 0, np.pi, q[0])\n",
        "        circuit.u(np.pi/2, 0, np.pi, q[1])\n",
        "        circuit.measure(q[0], c[0])\n",
        "        circuit.measure(q[1], c[1])\n",
        "    elif measure == 'ZZ':\n",
        "        circuit.measure(q[0], c[0])\n",
        "        circuit.measure(q[1], c[1])\n",
        "    elif measure == 'YY':\n",
        "        circuit.barrier(q[0],q[1])\n",
        "        circuit.u(np.pi/2, 0, np.pi/2, q[0])\n",
        "        circuit.u(np.pi/2,0, np.pi/2, q[1])\n",
        "        circuit.measure(q[0], c[0])\n",
        "        circuit.measure(q[1], c[1])\n",
        "    else: raise ValueError('Input should be \"XX\" or \"YY\" or \"ZZ\"')\n",
        "    return circuit\n",
        "\n",
        "# Get value from a dictionary given key\n",
        "def get_from(d: dict, key: str):\n",
        "    value = 0\n",
        "    if key in d: value = d[key]\n",
        "    return value\n",
        "\n",
        "# Calculate the expectation value for each Pauli's gate\n",
        "def expec_value(parameter, measure):\n",
        "    # measure in the right basis, then use the counts to compute the expectation value.\n",
        "    if measure == 'II': return 1\n",
        "    if measure == 'XX': circuit = z_measure_circ(parameter, 'XX')\n",
        "    elif measure == 'ZZ': circuit = z_measure_circ(parameter, 'ZZ')\n",
        "    elif measure == 'YY': circuit = z_measure_circ(parameter, 'YY')\n",
        "    else: raise ValueError('Input should be \"II\" or \"XX\" or \"ZZ\" or \"YY\"')\n",
        "\n",
        "    shots = 1000\n",
        "    backend = BasicAer.get_backend('qasm_simulator')\n",
        "    job = execute(circuit, backend, shots=shots)\n",
        "    result = job.result()\n",
        "    counts = result.get_counts()\n",
        "\n",
        "    expectation_value = ((get_from(counts, '00')+get_from(counts, '11')) -\n",
        "                         (get_from(counts,'10')+get_from(counts, '01'))) / shots\n",
        "\n",
        "    return expectation_value\n",
        "\n",
        "# Sums all expectation values inside a Hamiltonian and multiply by coefficients\n",
        "def sum_expec(parameter):\n",
        "    if isinstance(parameter, np.ndarray): parameter = parameter[0]\n",
        "    expec_value_II = get_from(H, 'II') * expec_value(parameter, 'II') #a*<II>\n",
        "    expec_value_XX = get_from(H, 'XX') * expec_value(parameter, 'XX') #b*<XX>\n",
        "    expec_value_ZZ = get_from(H, 'ZZ') * expec_value(parameter, 'ZZ') #c*<ZZ>\n",
        "    expec_value_YY = get_from(H, 'YY') * expec_value(parameter, 'YY') #d*<YY>\n",
        "\n",
        "    sum_result = expec_value_II + expec_value_XX + expec_value_ZZ + expec_value_YY\n",
        "\n",
        "    return sum_result"
      ],
      "metadata": {
        "id": "-KcBHSS2g8mI"
      },
      "execution_count": null,
      "outputs": []
    },
    {
      "cell_type": "code",
      "source": [
        "parameter = 0\n",
        "tolerance = 1e-3\n",
        "sum_expec_result = minimize(sum_expec, parameter, method=\"Powell\", tol=tolerance)\n",
        "\n",
        "print('The exact ground state energy is: {}'.format(-1.5))\n",
        "print('The estimated ground state energy using VQE algorithm is: {}'.format(sum_expec_result.fun))\n",
        "print(\"\\nThe optimal parameter theta is : {} \".format(sum_expec_result.x))"
      ],
      "metadata": {
        "colab": {
          "base_uri": "https://localhost:8080/"
        },
        "id": "NYhaX7eSiLwm",
        "outputId": "a61c564e-a64a-45e6-e015-bcbb76dcfbf3"
      },
      "execution_count": null,
      "outputs": [
        {
          "output_type": "stream",
          "name": "stdout",
          "text": [
            "The exact ground state energy is: -1.5\n",
            "The estimated ground state energy using VQE algorithm is: -1.5\n",
            "\n",
            "The optimal parameter theta is : [3.13888736] \n"
          ]
        }
      ]
    },
    {
      "cell_type": "code",
      "source": [
        "qc = QuantumCircuit(2)\n",
        "qc.h(0)\n",
        "qc.rz(np.pi,0)\n",
        "qc.cx(0,1)\n",
        "qc.x(1)\n",
        "qc.draw()"
      ],
      "metadata": {
        "colab": {
          "base_uri": "https://localhost:8080/",
          "height": 94
        },
        "id": "YiuHOd56i74K",
        "outputId": "57986f0a-f608-4659-d1aa-c3a257c02036"
      },
      "execution_count": null,
      "outputs": [
        {
          "output_type": "execute_result",
          "data": {
            "text/plain": [
              "     ┌───┐┌───────┐          \n",
              "q_0: ┤ H ├┤ Rz(π) ├──■───────\n",
              "     └───┘└───────┘┌─┴─┐┌───┐\n",
              "q_1: ──────────────┤ X ├┤ X ├\n",
              "                   └───┘└───┘"
            ],
            "text/html": [
              "<pre style=\"word-wrap: normal;white-space: pre;background: #fff0;line-height: 1.1;font-family: &quot;Courier New&quot;,Courier,monospace\">     ┌───┐┌───────┐          \n",
              "q_0: ┤ H ├┤ Rz(π) ├──■───────\n",
              "     └───┘└───────┘┌─┴─┐┌───┐\n",
              "q_1: ──────────────┤ X ├┤ X ├\n",
              "                   └───┘└───┘</pre>"
            ]
          },
          "metadata": {},
          "execution_count": 17
        }
      ]
    }
  ]
}