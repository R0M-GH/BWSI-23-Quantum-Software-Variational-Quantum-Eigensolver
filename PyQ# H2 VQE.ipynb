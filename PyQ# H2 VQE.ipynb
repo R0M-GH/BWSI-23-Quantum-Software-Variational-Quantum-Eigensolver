{
 "cells": [
  {
   "cell_type": "code",
   "execution_count": 2,
   "id": "8ac75ca4",
   "metadata": {
    "ExecuteTime": {
     "end_time": "2023-08-01T20:21:19.890097600Z",
     "start_time": "2023-08-01T20:21:19.651241600Z"
    }
   },
   "outputs": [
    {
     "data": {
      "text/plain": "Adding package microsoft.quantum.chemistry.jupyter.",
      "application/x-qsharp-data": "{\"LastUpdated\":\"2023-08-01T13:21:19.6715657-07:00\",\"IsCompleted\":false,\"Description\":\"Adding package microsoft.quantum.chemistry.jupyter\",\"Subtask\":null}"
     },
     "metadata": {},
     "output_type": "display_data"
    },
    {
     "name": "stdout",
     "output_type": "stream",
     "text": [
      "Done\n"
     ]
    }
   ],
   "source": [
    "from scipy.optimize import minimize\n",
    "import pprint\n",
    "import qsharp\n",
    "from qsharp.chemistry import load_broombridge, load_fermion_hamiltonian, load_input_state, encode\n",
    "\n",
    "print(\"Done\")"
   ]
  },
  {
   "cell_type": "code",
   "execution_count": 15,
   "id": "37e9cdf2",
   "metadata": {
    "ExecuteTime": {
     "end_time": "2023-08-01T22:18:29.429481800Z",
     "start_time": "2023-08-01T22:18:29.368654300Z"
    }
   },
   "outputs": [
    {
     "name": "stdout",
     "output_type": "stream",
     "text": [
      "jw_hamiltonian :: \n",
      "\n",
      "(   4,\n",
      "    (   [   ([0], [0.17120128499999998]),\n",
      "            ([1], [0.17120128499999998]),\n",
      "            ([2], [-0.222796536]),\n",
      "            ([3], [-0.222796536])],\n",
      "        [   ([0, 1], [0.1686232915]),\n",
      "            ([0, 2], [0.12054614575]),\n",
      "            ([0, 3], [0.16586802525]),\n",
      "            ([1, 2], [0.16586802525]),\n",
      "            ([1, 3], [0.12054614575]),\n",
      "            ([2, 3], [0.1743495025])],\n",
      "        [],\n",
      "        [([0, 1, 2, 3], [0.0, -0.0453218795, 0.0, 0.0453218795])]),\n",
      "    (   3,\n",
      "        [   ((0.001, 0.0), [2, 0]),\n",
      "            ((-0.001, 0.0), [3, 1]),\n",
      "            ((0.113, 0.0), [2, 3, 1, 0]),\n",
      "            ((1.0, 0.0), [0, 1])]),\n",
      "    -0.09883444600000002)\n"
     ]
    }
   ],
   "source": [
    "# Loading molecular data from Broombridge\n",
    "filename = 'data/hydrogen_0.2.yaml'\n",
    "broombridge_data =  load_broombridge(filename)\n",
    "\n",
    "# Retrieve basis set and geometry used to generate the input data\n",
    "basis_set = broombridge_data.problem_description[0].basis_set\n",
    "geometry = broombridge_data.problem_description[0].geometry\n",
    "\n",
    "# Retrieve the nuclear repulsion and the one-electron integrals\n",
    "nuclear_repulsion = broombridge_data.problem_description[0].coulomb_repulsion['Value']\n",
    "one_electron_integrals =  broombridge_data.problem_description[0].hamiltonian['OneElectronIntegrals']['Values']\n",
    "\n",
    "# print(\"nuclear_repulsion = \", nuclear_repulsion)\n",
    "# print(\"one_electron_integrals = \", one_electron_integrals, \"\\n\\n\")\n",
    "\n",
    "# Loading the Fermion Hamiltonian\n",
    "fermion_hamiltonian = broombridge_data.problem_description[0].load_fermion_hamiltonian()\n",
    "# print(\"fermion_hamiltonian :: \\n\", fermion_hamiltonian, \"\\n\\n\")\n",
    "# print(dir(fermion_hamiltonian))\n",
    "\n",
    "# Loading the input state ansatz\n",
    "ansatz = load_input_state(filename, \"UCCSD |G>\")\n",
    "# print(\"ansatz :: \\n\", ansatz, \"\\n\\n\")\n",
    "# print(dir(ansatz))\n",
    "\n",
    "# Encoding the Hamiltonian using Jordan-Wigner encoding into the Hartree-Fock state\n",
    "jw_hamiltonian = encode(fermion_hamiltonian, ansatz)\n",
    "pp = pprint.PrettyPrinter(indent=4)\n",
    "print(\"jw_hamiltonian :: \\n\")\n",
    "pp.pprint(jw_hamiltonian)"
   ]
  },
  {
   "cell_type": "code",
   "execution_count": 4,
   "outputs": [
    {
     "name": "stdout",
     "output_type": "stream",
     "text": [
      "var_params :: [0.001, -0.001, 0.113]\n"
     ]
    }
   ],
   "source": [
    "\"\"\"\n",
    "The Jordan-Wigner encoding of the Hamiltonian is a tuple of the form (a1, a2, in_state, a4), where:\n",
    "\ta1 is the constant term of the Hamiltonian\n",
    "\ta2 is the coefficient of the Pauli Z operator\n",
    "\tin_state is the input state is a tuple of the form (b1, amplitudes), where:\n",
    "\t\tb1 is the constant term of the input state\n",
    "\t\tamplitudes is a list of tuples of the form ((var_param, 0.0), coefficient), where:\n",
    "\t\t\tvar_param is the variational parameter\n",
    "\t\t\tcoefficient is the coefficient of the Pauli Z operator\n",
    "\ta4 is the coefficient of the Pauli X operator\n",
    "\n",
    "This method returns the list of variational parameters of the Jordan-Wigner encoding of the Hamiltonian.\n",
    "\"\"\"\n",
    "def get_var_params(jw_hamiltonian):\n",
    "\t_, _, i, _ = jw_hamiltonian\n",
    "\t_, amplitudes = i\n",
    "\tparams = [param for ((param, _), _) in amplitudes]\n",
    "\treturn params[:-1]\n",
    "\n",
    "var_params = get_var_params(jw_hamiltonian)\n",
    "print(\"var_params ::\", var_params)"
   ],
   "metadata": {
    "collapsed": false,
    "ExecuteTime": {
     "end_time": "2023-08-01T20:21:33.414770100Z",
     "start_time": "2023-08-01T20:21:33.372248400Z"
    }
   },
   "id": "9bb89dea36b35d63"
  },
  {
   "cell_type": "code",
   "execution_count": 5,
   "outputs": [
    {
     "name": "stdout",
     "output_type": "stream",
     "text": [
      "Energy evaluated at [0.001, -0.001, 0.113] : -1.0560238743040393\n"
     ]
    }
   ],
   "source": [
    "# Estimate the energy of the Hamiltonian\n",
    "\"\"\"\n",
    "The H2 ground state energy at equilibrium, R=1.40 bohr, is 1.174476 hartree.\n",
    "\"\"\"\n",
    "estimate = qsharp.QSharpCallable(\"Microsoft.Quantum.Chemistry.JordanWigner.VQE.EstimateEnergy\", \"\")\n",
    "estimated_energy = estimate.simulate(jwHamiltonian = jw_hamiltonian, nSamples=1e18)\n",
    "print(\"Energy evaluated at {0} : {1}\".format(var_params, estimated_energy))"
   ],
   "metadata": {
    "collapsed": false,
    "ExecuteTime": {
     "end_time": "2023-08-01T20:21:46.351912500Z",
     "start_time": "2023-08-01T20:21:42.221192900Z"
    }
   },
   "id": "bc0c0f2c79e5d7ab"
  },
  {
   "cell_type": "code",
   "execution_count": 6,
   "outputs": [],
   "source": [
    "\"\"\"\n",
    "The Jordan-Wigner encoding of the Hamiltonian is a tuple of the form (a1, a2, in_state, a4), where:\n",
    "\ta1 is the constant term of the Hamiltonian\n",
    "\ta2 is the coefficient of the Pauli Z operator\n",
    "\tin_state is the input state is a tuple of the form (b1, amplitudes), where:\n",
    "\t\tb1 is the constant term of the input state\n",
    "\t\tamplitudes is a list of tuples of the form ((var_param, 0.0), coefficient), where:\n",
    "\t\t\tvar_param is the variational parameter\n",
    "\t\t\tcoefficient is the coefficient of the Pauli Z operator\n",
    "\ta4 is the coefficient of the Pauli X operator\n",
    "\n",
    "This method sets the variational parameters of the Jordan-Wigner encoding of the Hamiltonian, to be used in the energy evaluation and optimization.\n",
    "\"\"\"\n",
    "def set_var_params(input_params, jw):\n",
    "\ta1, a2, in_state, a4 = jw\n",
    "\tb1, amplitudes = in_state\n",
    "\tnew_amplitudes = [((input_params[i], 0.0), amplitudes[i][1]) for i in range(len(input_params))]\n",
    "\tnew_amplitudes.append(amplitudes[-1])\n",
    "\n",
    "\tin_state = (b1, new_amplitudes)\n",
    "\tjw = (a1, a2, in_state, a4)\n",
    "\treturn jw\n",
    "\n",
    "\"\"\"\n",
    "This method evaluates the energy of the Hamiltonian, given the variational parameters.\n",
    "\"\"\"\n",
    "def energy_evaluation(var_parameters, jw, n_samples):\n",
    "\t# var_parameters = list(var_parameters)\n",
    "\tjw = set_var_params(var_parameters, jw)\n",
    "\tenergy = estimate.simulate(jwHamiltonian = jw, nSamples=n_samples)\n",
    "\tprint(\"Energy evaluated at {0} : {1}\\n\".format(var_parameters, energy))\n",
    "\treturn energy"
   ],
   "metadata": {
    "collapsed": false,
    "ExecuteTime": {
     "end_time": "2023-08-01T20:42:26.866169300Z",
     "start_time": "2023-08-01T20:42:26.841680200Z"
    }
   },
   "id": "64751f21a7e21c6f"
  },
  {
   "cell_type": "code",
   "execution_count": 9,
   "outputs": [
    {
     "name": "stdout",
     "output_type": "stream",
     "text": [
      "Energy evaluated at [ 0.001 -0.001  0.113] : -1.0560238743038477\n",
      "\n",
      "Energy evaluated at [ 0.051 -0.001  0.113] : -1.0542461847004285\n",
      "\n",
      "Energy evaluated at [0.001 0.049 0.113] : -1.0542801923068277\n",
      "\n",
      "Energy evaluated at [ 0.001 -0.001  0.163] : -1.0171240626453892\n",
      "Energy evaluated at [-0.00128029 -0.00323667  0.06310213] : -1.087587247959818\n",
      "\n",
      "Energy evaluated at [-0.00409604 -0.00599855  0.01325794] : -1.1115432421007063\n",
      "\n",
      "Energy evaluated at [-0.02204644 -0.02388511 -0.02984489] : -1.1249464890131518\n",
      "\n",
      "Energy evaluated at [ 0.01650616 -0.03460251 -0.05982547] : -1.1318479015442628\n",
      "Energy evaluated at [ 0.01208354  0.00163777 -0.09398806] : -1.1365568574611777\n",
      "\n",
      "Energy evaluated at [ 0.00409545 -0.01821874 -0.13917555] : -1.1359150668001825\n",
      "\n",
      "Energy evaluated at [ 0.05322308  0.02612499 -0.10840729] : -1.1339504311759128\n",
      "Energy evaluated at [-0.00726559  0.01740781 -0.09537279] : -1.1365379338421255\n",
      "\n",
      "Energy evaluated at [ 0.01978569  0.01062591 -0.09800555] : -1.1364210576308125\n",
      "\n",
      "Energy evaluated at [ 0.01106532 -0.00013026 -0.09989566] : -1.136894387480595\n",
      "\n",
      "Energy evaluated at [ 0.00769311 -0.00548657 -0.11067472] : -1.1372066289241092\n",
      "Energy evaluated at [ 0.00306395 -0.0166502  -0.11386757] : -1.137062438360176\n",
      "\n",
      "Energy evaluated at [-0.00319342  0.00043366 -0.11231308] : -1.1372618445122233\n",
      "\n",
      "Energy evaluated at [-0.00162183  0.0030021  -0.11778992] : -1.1372268262361351\n",
      "Energy evaluated at [-0.00206013  0.00293185 -0.11081632] : -1.1372543890642794\n",
      "\n",
      "Energy evaluated at [-0.00854055 -0.00119403 -0.10951641] : -1.1371877971176647\n",
      "\n",
      "Energy evaluated at [-0.00072477 -0.00138789 -0.11171867] : -1.1372651933824507\n",
      "Energy evaluated at [-0.00137884 -0.00243178 -0.11075749] : -1.1372544311198203\n",
      "\n",
      "Energy evaluated at [-0.00090848 -0.00183673 -0.11233116] : -1.1372656366509273\n",
      "\n",
      "Energy evaluated at [ 0.00011683 -0.0011552  -0.11329327] : -1.137269318302283\n",
      "Energy evaluated at [-8.08842842e-04 -5.22040463e-05 -1.13899840e-01] : -1.1372687515964275\n",
      "\n",
      "Energy evaluated at [ 0.00134143 -0.00097217 -0.1142463 ] : -1.1372664616252202\n",
      "\n",
      "Energy evaluated at [ 0.00072913 -0.00106368 -0.11376978] : -1.1372685789596995\n",
      "Energy evaluated at [-1.06923939e-04 -1.25022137e-03 -1.13599033e-01] : -1.1372686641034746\n",
      "\n",
      "Energy evaluated at [-4.96736169e-05 -3.93969755e-04 -1.13237103e-01] : -1.1372702339683598\n",
      "\n",
      "Energy evaluated at [-4.09609781e-05  8.82430998e-06 -1.12567750e-01] : -1.1372700157289461\n",
      "\n",
      "Energy evaluated at [ 0.00027605 -0.00022307 -0.11336857] : -1.1372701871236979\n",
      "\n",
      "Energy evaluated at [-0.00028657 -0.00016338 -0.11344517] : -1.1372700765208368\n",
      "Energy evaluated at [-9.66284746e-07 -5.83110051e-04 -1.13237821e-01] : -1.1372700972561547\n",
      "\n",
      "Energy evaluated at [-4.12526268e-05 -3.07601445e-04 -1.13062127e-01] : -1.1372703339185146\n",
      "\n",
      "Energy evaluated at [-0.00013212 -0.00014951 -0.11299215] : -1.1372703677045175\n",
      "\n",
      "Energy evaluated at [ 2.55660347e-05 -3.43969119e-05 -1.12997693e-01] : -1.1372704061906846\n",
      "Energy evaluated at [ 9.27927551e-05 -6.66938881e-07 -1.12817443e-01] : -1.1372703097291947\n",
      "\n",
      "Energy evaluated at [ 2.65798070e-06  7.95185681e-05 -1.13154682e-01] : -1.1372703953678158\n",
      "\n",
      "Energy evaluated at [ 8.51343569e-05 -9.51181461e-05 -1.13045665e-01] : -1.137270403745505\n",
      "Energy evaluated at [ 6.05750252e-05 -1.18708353e-05 -1.12972176e-01] : -1.1372703980704224\n",
      "\n",
      "Energy evaluated at [ 2.79800806e-05 -1.79224489e-05 -1.13015548e-01] : -1.137270410696349\n",
      "Energy evaluated at [ 2.68153308e-06 -3.87081559e-06 -1.13054876e-01] : -1.1372704134107736\n",
      "\n",
      "Energy evaluated at [ 2.43283233e-05  3.74968077e-05 -1.13069171e-01] : -1.1372704122521555\n",
      "\n",
      "Energy evaluated at [-1.23998979e-05  8.95683954e-06 -1.13040592e-01] : -1.1372704135172964\n",
      "\n",
      "Energy evaluated at [-5.15428433e-05 -2.53377704e-07 -1.13068290e-01] : -1.1372704117943382\n",
      "Energy evaluated at [-4.41519512e-06 -9.92175558e-07 -1.13019776e-01] : -1.137270410978132\n",
      "\n",
      "Energy evaluated at [-4.55721401e-06  2.99927965e-05 -1.13050185e-01] : -1.1372704134186877\n",
      "\n",
      "Energy evaluated at [-2.14451372e-05  8.17535410e-06 -1.13048752e-01] : -1.137270413797809\n",
      "\n",
      "Energy evaluated at [-3.19562810e-05  6.89112164e-06 -1.13054825e-01] : -1.1372704132031481\n",
      "Energy evaluated at [-2.51158179e-05  1.12645135e-05 -1.13044979e-01] : -1.1372704130353175\n",
      "\n",
      "Energy evaluated at [-1.59590383e-05  1.68386326e-06 -1.13057514e-01] : -1.137270414392432\n",
      "\n",
      "Energy evaluated at [-1.37558566e-05 -4.85513340e-06 -1.13067584e-01] : -1.1372704135897278\n",
      "\n",
      "Energy evaluated at [-1.78798953e-05 -3.48123375e-06 -1.13054890e-01] : -1.1372704134272449\n",
      "Energy evaluated at [-1.15777493e-05  9.64990225e-06 -1.13065660e-01] : -1.1372704140028644\n",
      "\n",
      "Energy evaluated at [-1.64597552e-05 -4.11473072e-06 -1.13059352e-01] : -1.1372704140484564\n",
      "\n",
      "Energy evaluated at [-1.06239302e-05  1.07835291e-06 -1.13054612e-01] : -1.1372704140392793\n",
      "\n",
      "Energy evaluated at [-1.83237458e-05  3.05517415e-06 -1.13056157e-01] : -1.137270414021367\n",
      "Energy evaluated at [-1.50697602e-05  3.03076685e-06 -1.13060104e-01] : -1.1372704142071548\n",
      "\n",
      "Energy evaluated at [-1.62225813e-05  2.52117468e-07 -1.13057971e-01] : -1.1372704140443233\n",
      "\n",
      "Energy evaluated at [-1.47353001e-05  2.02636620e-06 -1.13056669e-01] : -1.1372704142551924\n",
      "\n",
      "Energy evaluated at [-1.58263276e-05  2.15285932e-06 -1.13058101e-01] : -1.1372704133781686\n",
      "Energy evaluated at [-1.64220106e-05  1.67637450e-06 -1.13056908e-01] : -1.1372704136068905\n",
      "\n",
      "Energy evaluated at [-1.56197846e-05  1.59402471e-06 -1.13057364e-01] : -1.1372704148968427\n",
      "\n",
      "Energy evaluated at [-1.55172830e-05  1.23356700e-06 -1.13057436e-01] : -1.1372704141151835\n",
      "Energy evaluated at [-1.55340215e-05  1.65022280e-06 -1.13057525e-01] : -1.137270414350179\n",
      "\n",
      "Energy evaluated at [-1.56090579e-05  1.72273629e-06 -1.13057006e-01] : -1.137270414393139\n",
      "\n",
      "Energy evaluated at [-1.55017000e-05  1.71347860e-06 -1.13057455e-01] : -1.1372704140741998\n",
      "Energy evaluated at [-1.56408988e-05  1.59731459e-06 -1.13057272e-01] : -1.1372704137708762\n",
      "\n",
      "Energy evaluated at [-1.56563799e-05  1.62313171e-06 -1.13057374e-01] : -1.1372704136656657\n",
      "\n",
      "Energy evaluated at [-1.55766903e-05  1.51240700e-06 -1.13057389e-01] : -1.1372704139241612\n",
      "Energy evaluated at [-1.55804200e-05  1.62089932e-06 -1.13057363e-01] : -1.1372704140189591\n",
      "\n",
      "Energy evaluated at [-1.56221336e-05  1.58873225e-06 -1.13057341e-01] : -1.1372704142701382\n",
      "\n",
      "Energy evaluated at [-1.56162343e-05  1.57593438e-06 -1.13057380e-01] : -1.1372704143145689\n",
      "Energy evaluated at [-1.56099764e-05  1.60074264e-06 -1.13057365e-01] : -1.1372704142933516\n",
      "\n",
      "Energy evaluated at [-1.56303618e-05  1.59845825e-06 -1.13057368e-01] : -1.1372704134538933\n",
      "\n",
      "Energy evaluated at [-1.56188868e-05  1.59090575e-06 -1.13057359e-01] : -1.1372704145131594\n",
      "\n",
      "Energy evaluated at [-1.56182377e-05  1.58989248e-06 -1.13057369e-01] : -1.137270413884567\n",
      "Energy evaluated at [-1.56178817e-05  1.59627472e-06 -1.13057364e-01] : -1.1372704135984262\n",
      "\n",
      "Energy evaluated at [-1.56227604e-05  1.59390806e-06 -1.13057364e-01] : -1.1372704141147154\n",
      "\n",
      "Energy evaluated at [-1.56194958e-05  1.59327857e-06 -1.13057365e-01] : -1.1372704142142886\n",
      "\n",
      "Energy evaluated at [-1.56195913e-05  1.59378352e-06 -1.13057364e-01] : -1.137270414686144\n",
      "Energy evaluated at [-1.56207305e-05  1.59429777e-06 -1.13057364e-01] : -1.1372704143174497\n",
      "\n",
      "Energy evaluated at [-1.56192136e-05  1.59484101e-06 -1.13057365e-01] : -1.1372704139924368\n",
      "\n",
      "result ::      fun: -1.1372704139924368\n",
      "   maxcv: 0.0\n",
      " message: 'Optimization terminated successfully.'\n",
      "    nfev: 83\n",
      "  status: 1\n",
      " success: True\n",
      "       x: array([-1.56192136e-05,  1.59484101e-06, -1.13057365e-01])\n"
     ]
    }
   ],
   "source": [
    "def VQE(in_var_params, jw, n_samples):\n",
    "\t# Minimize the energy of the Hamiltonian\n",
    "\tresult = minimize(energy_evaluation, in_var_params, args=(jw, n_samples), method='COBYLA', tol=1e-9, options={'disp': True, 'maxiter': 200,'rhobeg' : 0.05})\n",
    "\treturn result\n",
    "\n",
    "result = VQE(var_params, jw_hamiltonian, 1e18)\n",
    "print(\"result ::\", result)"
   ],
   "metadata": {
    "collapsed": false,
    "ExecuteTime": {
     "end_time": "2023-08-01T20:42:49.461257200Z",
     "start_time": "2023-08-01T20:42:42.444914800Z"
    }
   },
   "id": "5eea344558229298"
  },
  {
   "cell_type": "code",
   "execution_count": 10,
   "outputs": [
    {
     "name": "stdout",
     "output_type": "stream",
     "text": [
      "-1.1372704139924368\n",
      "Difference with exact FCI value ::  8.100003334732264e-09\n"
     ]
    }
   ],
   "source": [
    "fci_value = -1.1372704220924401\n",
    "print(result.fun)\n",
    "print(\"Difference with exact FCI value :: \", abs(result.fun - fci_value))"
   ],
   "metadata": {
    "collapsed": false,
    "ExecuteTime": {
     "end_time": "2023-08-01T20:42:50.462247900Z",
     "start_time": "2023-08-01T20:42:50.349151600Z"
    }
   },
   "id": "3f0115b9b11bb8ed"
  }
 ],
 "metadata": {
  "kernelspec": {
   "display_name": "Python 3 (ipykernel)",
   "language": "python",
   "name": "python3"
  },
  "language_info": {
   "codemirror_mode": {
    "name": "ipython",
    "version": 3
   },
   "file_extension": ".py",
   "mimetype": "text/x-python",
   "name": "python",
   "nbconvert_exporter": "python",
   "pygments_lexer": "ipython3",
   "version": "3.10.12"
  }
 },
 "nbformat": 4,
 "nbformat_minor": 5
}
